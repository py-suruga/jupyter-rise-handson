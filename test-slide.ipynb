{
 "cells": [
  {
   "cell_type": "markdown",
   "id": "e9aaf52b",
   "metadata": {
    "slideshow": {
     "slide_type": "slide"
    }
   },
   "source": [
    "にゅうりょくてすと"
   ]
  },
  {
   "cell_type": "code",
   "execution_count": 1,
   "id": "636de624",
   "metadata": {
    "scrolled": true,
    "slideshow": {
     "slide_type": "slide"
    }
   },
   "outputs": [
    {
     "name": "stdout",
     "output_type": "stream",
     "text": [
      "hello jupyter and rise\n"
     ]
    }
   ],
   "source": [
    "print(\"hello jupyter and rise\")"
   ]
  },
  {
   "cell_type": "code",
   "execution_count": null,
   "id": "84c9c8a3",
   "metadata": {
    "slideshow": {
     "slide_type": "-"
    }
   },
   "outputs": [],
   "source": []
  }
 ],
 "metadata": {
  "celltoolbar": "スライドショー",
  "kernelspec": {
   "display_name": "Python 3 (ipykernel)",
   "language": "python",
   "name": "python3"
  },
  "language_info": {
   "codemirror_mode": {
    "name": "ipython",
    "version": 3
   },
   "file_extension": ".py",
   "mimetype": "text/x-python",
   "name": "python",
   "nbconvert_exporter": "python",
   "pygments_lexer": "ipython3",
   "version": "3.9.1"
  }
 },
 "nbformat": 4,
 "nbformat_minor": 5
}
